{
 "cells": [
  {
   "cell_type": "code",
   "execution_count": 17,
   "id": "87b12e3b",
   "metadata": {},
   "outputs": [],
   "source": [
    "from tensorflow.keras.models import load_model"
   ]
  },
  {
   "cell_type": "code",
   "execution_count": 18,
   "id": "7bbc641c",
   "metadata": {},
   "outputs": [],
   "source": [
    "model = load_model('D:\\\\Fashion_mnist\\\\model\\\\my_fashion_mnist_model.keras')"
   ]
  },
  {
   "cell_type": "code",
   "execution_count": 24,
   "id": "f5389fa7",
   "metadata": {},
   "outputs": [],
   "source": [
    "from PIL import Image\n",
    "import numpy as np"
   ]
  },
  {
   "cell_type": "code",
   "execution_count": 4,
   "id": "5ef21146",
   "metadata": {},
   "outputs": [
    {
     "name": "stdout",
     "output_type": "stream",
     "text": [
      "\u001b[1m1/1\u001b[0m \u001b[32m━━━━━━━━━━━━━━━━━━━━\u001b[0m\u001b[37m\u001b[0m \u001b[1m0s\u001b[0m 307ms/step\n"
     ]
    }
   ],
   "source": [
    "image = Image.open('D:\\\\Fashion_mnist\\\\t_shirt.jpg').convert('L').resize((28, 28))\n",
    "image_array = np.array(image).reshape(1, 28, 28, 1) / 255.0\n",
    "predictions = model.predict(image_array)"
   ]
  },
  {
   "cell_type": "code",
   "execution_count": 12,
   "id": "e76a0ea8",
   "metadata": {},
   "outputs": [
    {
     "name": "stdout",
     "output_type": "stream",
     "text": [
      "[3.40380996e-01 1.04948595e-01 6.98044822e-02 6.98212087e-02\n",
      " 4.85846624e-02 2.11822873e-04 2.17976227e-01 1.62285200e-04\n",
      " 1.47831783e-01 2.77855201e-04]\n"
     ]
    }
   ],
   "source": [
    "print(predictions[0])"
   ]
  },
  {
   "cell_type": "code",
   "execution_count": 16,
   "id": "7773912b",
   "metadata": {},
   "outputs": [
    {
     "data": {
      "text/plain": [
       "array([0])"
      ]
     },
     "execution_count": 16,
     "metadata": {},
     "output_type": "execute_result"
    }
   ],
   "source": [
    "np.argmax(predictions,axis=1)"
   ]
  },
  {
   "cell_type": "code",
   "execution_count": 14,
   "id": "b6ea4b7c",
   "metadata": {},
   "outputs": [],
   "source": [
    "predict=np.argmax([0])"
   ]
  },
  {
   "cell_type": "code",
   "execution_count": 15,
   "id": "d5e036e6",
   "metadata": {},
   "outputs": [
    {
     "name": "stdout",
     "output_type": "stream",
     "text": [
      "<class 'int'>\n"
     ]
    }
   ],
   "source": [
    "print(type(predict.tolist()))"
   ]
  },
  {
   "cell_type": "code",
   "execution_count": 28,
   "id": "9efea252",
   "metadata": {},
   "outputs": [],
   "source": [
    "result = np.argmax([0.23640655, 0.02994451, 0.32940188, 0.02778989, 0.0211289, 0.00053039, 0.19603355, 0.00122327, 0.1517204, 0.00582072]).tolist()"
   ]
  },
  {
   "cell_type": "code",
   "execution_count": 29,
   "id": "b9e007f0",
   "metadata": {},
   "outputs": [
    {
     "data": {
      "text/plain": [
       "2"
      ]
     },
     "execution_count": 29,
     "metadata": {},
     "output_type": "execute_result"
    }
   ],
   "source": [
    "result"
   ]
  },
  {
   "cell_type": "code",
   "execution_count": null,
   "id": "d8191933",
   "metadata": {},
   "outputs": [],
   "source": []
  }
 ],
 "metadata": {
  "kernelspec": {
   "display_name": "fashion",
   "language": "python",
   "name": "python3"
  },
  "language_info": {
   "codemirror_mode": {
    "name": "ipython",
    "version": 3
   },
   "file_extension": ".py",
   "mimetype": "text/x-python",
   "name": "python",
   "nbconvert_exporter": "python",
   "pygments_lexer": "ipython3",
   "version": "3.12.2"
  }
 },
 "nbformat": 4,
 "nbformat_minor": 5
}
